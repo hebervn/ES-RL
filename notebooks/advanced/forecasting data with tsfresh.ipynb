{
  "nbformat": 4,
  "nbformat_minor": 0,
  "metadata": {
    "kernelspec": {
      "display_name": "Python 3",
      "language": "python",
      "name": "python3"
    },
    "language_info": {
      "codemirror_mode": {
        "name": "ipython",
        "version": 3
      },
      "file_extension": ".py",
      "mimetype": "text/x-python",
      "name": "python",
      "nbconvert_exporter": "python",
      "pygments_lexer": "ipython3",
      "version": "3.7.7"
    },
    "colab": {
      "name": "05 Timeseries Forecasting (multiple ids).ipynb",
      "provenance": []
    }
  },
  "cells": [
    {
      "cell_type": "code",
      "metadata": {
        "id": "trAuFO9uatbj"
      },
      "source": [
        "!pip install dvc"
      ],
      "execution_count": null,
      "outputs": []
    },
    {
      "cell_type": "markdown",
      "metadata": {
        "id": "elV7XqmC_e_9"
      },
      "source": [
        "# Timeseries Forecasting"
      ]
    },
    {
      "cell_type": "markdown",
      "metadata": {
        "id": "N1afFVqU_fAB"
      },
      "source": [
        "This notebook explains how to use `tsfresh` in time series foreacasting.\n",
        "Make sure you also read through the [documentation](https://tsfresh.readthedocs.io/en/latest/text/forecasting.html) to learn more on this feature.\n",
        "\n",
        "It is basically a copy of the other time series forecasting notebook, but this time using more than one \n",
        "stock.\n",
        "This is conceptionally not much different, but the pandas multi-index magic is a bit advanced :-)\n",
        "\n",
        "We will use the Google, Facebook and Alphabet stock.\n",
        "Please find all documentation in the other notebook."
      ]
    },
    {
      "cell_type": "code",
      "metadata": {
        "id": "Hf1EOWuh_fAD"
      },
      "source": [
        "%matplotlib inline\n",
        "\n",
        "import numpy as np\n",
        "import pandas as pd\n",
        "import matplotlib.pylab as plt\n",
        "\n",
        "from tsfresh import extract_features, select_features\n",
        "from tsfresh.utilities.dataframe_functions import roll_time_series, make_forecasting_frame\n",
        "from tsfresh.utilities.dataframe_functions import impute\n",
        "\n",
        "try:\n",
        "    import pandas_datareader.data as web\n",
        "except ImportError:\n",
        "    print(\"You need to install the pandas_datareader. Run pip install pandas_datareader.\")\n",
        "\n",
        "from sklearn.ensemble import AdaBoostRegressor"
      ],
      "execution_count": null,
      "outputs": []
    },
    {
      "cell_type": "markdown",
      "metadata": {
        "id": "s39hBZqV_fAE"
      },
      "source": [
        "## Reading the data"
      ]
    },
    {
      "cell_type": "code",
      "metadata": {
        "id": "LKdW6lPV_fAF"
      },
      "source": [
        "df = web.DataReader(['F', \"AAPL\", \"GOOGL\"], 'stooq')[\"High\"]\n",
        "df.head()"
      ],
      "execution_count": null,
      "outputs": []
    },
    {
      "cell_type": "code",
      "metadata": {
        "id": "MDgSGS4r_fAG"
      },
      "source": [
        "plt.figure(figsize=(15, 6))\n",
        "df.plot(ax=plt.gca())\n",
        "plt.show()"
      ],
      "execution_count": null,
      "outputs": []
    },
    {
      "cell_type": "markdown",
      "metadata": {
        "id": "EKosC3rR_fAH"
      },
      "source": [
        "This time we need to make sure to preserve the stock symbol information while reordering:"
      ]
    },
    {
      "cell_type": "code",
      "metadata": {
        "id": "EZOCi2Hk_fAI"
      },
      "source": [
        "df_melted = df.copy()\n",
        "df_melted[\"date\"] = df_melted.index\n",
        "df_melted = df_melted.melt(id_vars=\"date\", value_name=\"high\").sort_values([\"Symbols\", \"date\"])\n",
        "df_melted = df_melted[[\"Symbols\", \"date\", \"high\"]]\n",
        "\n",
        "df_melted.head()"
      ],
      "execution_count": null,
      "outputs": []
    },
    {
      "cell_type": "markdown",
      "metadata": {
        "id": "WuD3tThk_fAJ"
      },
      "source": [
        "## Create training data sample"
      ]
    },
    {
      "cell_type": "code",
      "metadata": {
        "id": "c_0jPvOA_fAL"
      },
      "source": [
        "df_rolled = roll_time_series(df_melted, column_id=\"Symbols\", column_sort=\"date\",\n",
        "                             max_timeshift=20, min_timeshift=5)"
      ],
      "execution_count": null,
      "outputs": []
    },
    {
      "cell_type": "code",
      "metadata": {
        "id": "w5a3njqV_fAM"
      },
      "source": [
        "df_rolled.head()"
      ],
      "execution_count": null,
      "outputs": []
    },
    {
      "cell_type": "markdown",
      "metadata": {
        "id": "b69A68Eb_fAN"
      },
      "source": [
        "## Extract Features"
      ]
    },
    {
      "cell_type": "code",
      "metadata": {
        "scrolled": true,
        "id": "KR1bCodB_fAO"
      },
      "source": [
        "X = extract_features(df_rolled.drop(\"Symbols\", axis=1), \n",
        "                     column_id=\"id\", column_sort=\"date\", column_value=\"high\", \n",
        "                     impute_function=impute, show_warnings=False)"
      ],
      "execution_count": null,
      "outputs": []
    },
    {
      "cell_type": "code",
      "metadata": {
        "id": "4hi20LNJ_fAP"
      },
      "source": [
        "X.head()"
      ],
      "execution_count": null,
      "outputs": []
    },
    {
      "cell_type": "markdown",
      "metadata": {
        "id": "FRSofoch_fAP"
      },
      "source": [
        "We make the data a bit easier to work with by giving them a multi-index instead ot the tuple index:"
      ]
    },
    {
      "cell_type": "code",
      "metadata": {
        "id": "67bOfo6V_fAQ"
      },
      "source": [
        "# split up the two parts of the index and give them proper names\n",
        "X = X.set_index([X.index.map(lambda x: x[0]), X.index.map(lambda x: x[1])], drop=True)\n",
        "X.index.names = [\"Symbols\", \"last_date\"]"
      ],
      "execution_count": null,
      "outputs": []
    },
    {
      "cell_type": "code",
      "metadata": {
        "id": "xl9FiS5C_fAQ"
      },
      "source": [
        "X.head()"
      ],
      "execution_count": null,
      "outputs": []
    },
    {
      "cell_type": "markdown",
      "metadata": {
        "id": "wDJ4t0fy_fAR"
      },
      "source": [
        "Our `(AAPL, 2020-07-14 00:00:00)` is also in the data again:"
      ]
    },
    {
      "cell_type": "code",
      "metadata": {
        "id": "gwfszaly_fAR"
      },
      "source": [
        "X.loc[\"AAPL\", pd.to_datetime('2020-07-14')]"
      ],
      "execution_count": null,
      "outputs": []
    },
    {
      "cell_type": "markdown",
      "metadata": {
        "id": "xnO00RHJ_fAR"
      },
      "source": [
        "Just to repeat: the features in this row were only calculated using the time series values of `AAPL` up to and including `2015-07-15` and the last 20 days."
      ]
    },
    {
      "cell_type": "markdown",
      "metadata": {
        "id": "244SZDRG_fAR"
      },
      "source": [
        "## Prediction"
      ]
    },
    {
      "cell_type": "markdown",
      "metadata": {
        "id": "2pko9nzY_fAS"
      },
      "source": [
        "The next line might look like magic if you are not used to pandas transformations, but what it does is:\n",
        "\n",
        "for each stock symbol separately:\n",
        "* sort by date\n",
        "* take the high value\n",
        "* shift 1 time step in the future\n",
        "* bring into the same multi-index format as `X` above"
      ]
    },
    {
      "cell_type": "code",
      "metadata": {
        "id": "9EMY4jNO_fAS"
      },
      "source": [
        "y = df_melted.groupby(\"Symbols\").apply(lambda x: x.set_index(\"date\")[\"high\"].shift(-1)).T.unstack()"
      ],
      "execution_count": null,
      "outputs": []
    },
    {
      "cell_type": "markdown",
      "metadata": {
        "id": "90xrih8n_fAS"
      },
      "source": [
        "Quick consistency test:"
      ]
    },
    {
      "cell_type": "code",
      "metadata": {
        "id": "Lv3iPLe__fAS"
      },
      "source": [
        "y[\"AAPL\", pd.to_datetime(\"2020-07-13\")], df.loc[pd.to_datetime(\"2020-07-14\"), \"AAPL\"]"
      ],
      "execution_count": null,
      "outputs": []
    },
    {
      "cell_type": "code",
      "metadata": {
        "id": "2D6LXgEI_fAT"
      },
      "source": [
        "y = y[y.index.isin(X.index)]\n",
        "X = X[X.index.isin(y.index)]"
      ],
      "execution_count": null,
      "outputs": []
    },
    {
      "cell_type": "markdown",
      "metadata": {
        "id": "u1Xs1nOm_fAT"
      },
      "source": [
        "The splitting into train and test samples workes in principle the same as with a single identifier, but this time we have a multi-index symbol-date, so the `loc` call looks a bit more complicated:"
      ]
    },
    {
      "cell_type": "code",
      "metadata": {
        "id": "uXhGtPrl_fAT"
      },
      "source": [
        "X_train = X.loc[(slice(None), slice(None, \"2018\")), :]\n",
        "X_test = X.loc[(slice(None), slice(\"2019\", \"2020\")), :]\n",
        "\n",
        "y_train = y.loc[(slice(None), slice(None, \"2018\"))]\n",
        "y_test = y.loc[(slice(None), slice(\"2019\", \"2020\"))]"
      ],
      "execution_count": null,
      "outputs": []
    },
    {
      "cell_type": "code",
      "metadata": {
        "id": "L8hOsfAe_fAT"
      },
      "source": [
        "X_train_selected = select_features(X_train, y_train)"
      ],
      "execution_count": null,
      "outputs": []
    },
    {
      "cell_type": "markdown",
      "metadata": {
        "id": "-NQvFXrb_fAU"
      },
      "source": [
        "We are training a regressor for each of the stocks separately"
      ]
    },
    {
      "cell_type": "code",
      "metadata": {
        "id": "x1cDqdAG_fAU"
      },
      "source": [
        "adas = {stock: AdaBoostRegressor() for stock in [\"AAPL\", \"F\", \"GOOGL\"]}\n",
        "\n",
        "for stock, ada in adas.items():\n",
        "    ada.fit(X_train_selected.loc[stock], y_train.loc[stock])"
      ],
      "execution_count": null,
      "outputs": []
    },
    {
      "cell_type": "markdown",
      "metadata": {
        "id": "BTDYT-Dw_fAU"
      },
      "source": [
        "Now lets check again how good our prediction is:"
      ]
    },
    {
      "cell_type": "code",
      "metadata": {
        "id": "Ck4uJcor_fAU"
      },
      "source": [
        "X_test_selected = X_test[X_train_selected.columns]\n",
        "\n",
        "y_pred = pd.concat({\n",
        "    stock: pd.Series(adas[stock].predict(X_test_selected.loc[stock]), index=X_test_selected.loc[stock].index)\n",
        "    for stock in adas.keys()\n",
        "})\n",
        "y_pred.index.names = [\"Symbols\", \"last_date\"]"
      ],
      "execution_count": null,
      "outputs": []
    },
    {
      "cell_type": "code",
      "metadata": {
        "id": "DsEJfEde_fAU"
      },
      "source": [
        "plt.figure(figsize=(15, 6))\n",
        "\n",
        "y.unstack(\"Symbols\").plot(ax=plt.gca())\n",
        "y_pred.unstack(\"Symbols\").plot(ax=plt.gca(), legend=None, marker=\".\")"
      ],
      "execution_count": null,
      "outputs": []
    }
  ]
}